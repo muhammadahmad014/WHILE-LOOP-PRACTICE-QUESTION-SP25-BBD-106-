{
 "cells": [
  {
   "cell_type": "markdown",
   "id": "94f3e9bd-58fb-4ab9-9673-ed8551a307ff",
   "metadata": {},
   "source": [
    " MUHAMMAD AHMAD (SP25-BBD-106)"
   ]
  },
  {
   "cell_type": "markdown",
   "id": "62ded1f2-0b9d-4ec1-8db2-14e9c39b10f6",
   "metadata": {},
   "source": [
    "QUESTION NO 1"
   ]
  },
  {
   "cell_type": "code",
   "execution_count": 1,
   "id": "9994b088-6770-4f7a-b866-e68448ad33c9",
   "metadata": {},
   "outputs": [
    {
     "name": "stdout",
     "output_type": "stream",
     "text": [
      "10\n",
      "9\n",
      "8\n",
      "7\n",
      "6\n",
      "5\n",
      "4\n",
      "3\n",
      "2\n",
      "1\n",
      "loop completed\n"
     ]
    }
   ],
   "source": [
    "\n",
    "count=10\n",
    "while count >=1:\n",
    "    print(count)\n",
    "    count-=1\n",
    "print(\"loop completed\")"
   ]
  },
  {
   "cell_type": "markdown",
   "id": "2e77818a-7039-4642-88ae-772b52a0cf1c",
   "metadata": {},
   "source": [
    "QUESTION NO 2"
   ]
  },
  {
   "cell_type": "code",
   "execution_count": 2,
   "id": "a156c47e-cd82-44b4-9f9c-7f2cbc9a47de",
   "metadata": {},
   "outputs": [
    {
     "name": "stdout",
     "output_type": "stream",
     "text": [
      "2\n",
      "4\n",
      "6\n",
      "8\n",
      "10\n",
      "12\n",
      "14\n",
      "16\n",
      "18\n",
      "20\n"
     ]
    }
   ],
   "source": [
    "count=2 \n",
    "while count <=20:\n",
    "    print(count)\n",
    "    count+=2"
   ]
  },
  {
   "cell_type": "markdown",
   "id": "ded63423-6484-4e02-8a69-53f4a9b28c24",
   "metadata": {},
   "source": [
    "QUESTION NO 3"
   ]
  },
  {
   "cell_type": "code",
   "execution_count": 5,
   "id": "91cab7ac-f15f-45a6-a424-8821984fface",
   "metadata": {},
   "outputs": [
    {
     "name": "stdin",
     "output_type": "stream",
     "text": [
      "enter a number:  10\n"
     ]
    },
    {
     "name": "stdout",
     "output_type": "stream",
     "text": [
      "the sum of the first 10 natural number is: 55\n"
     ]
    }
   ],
   "source": [
    "n=int(input(\"enter a number: \"))\n",
    "sum=0\n",
    "i=1\n",
    "while i<=n:\n",
    "    sum +=i\n",
    "    i+=1\n",
    "print(\"the sum of the first\", n, \"natural number is:\",sum)"
   ]
  },
  {
   "cell_type": "markdown",
   "id": "afee717a-e0fb-49c7-96a3-cd791aadc024",
   "metadata": {},
   "source": [
    "QUESTION NO 4"
   ]
  },
  {
   "cell_type": "code",
   "execution_count": 4,
   "id": "631e523c-5263-4dd7-aaa6-150fa44b4981",
   "metadata": {},
   "outputs": [
    {
     "name": "stdin",
     "output_type": "stream",
     "text": [
      "enter a positive number:  12\n"
     ]
    },
    {
     "name": "stdout",
     "output_type": "stream",
     "text": [
      "thank you\n"
     ]
    }
   ],
   "source": [
    "number=int(input(\"enter a positive number: \"))\n",
    "while number<= 0 :\n",
    "     print(\"thats not a positive number. Try again.\")\n",
    "     number=int(\"input a positive number :\")\n",
    "print(\"thank you\")"
   ]
  },
  {
   "cell_type": "markdown",
   "id": "8b423069-96db-4d4a-80fe-aec490d847d2",
   "metadata": {},
   "source": [
    "QUESTION NO 5"
   ]
  },
  {
   "cell_type": "code",
   "execution_count": 2,
   "id": "7e5799e1-f49a-4db3-b5ac-169171d56395",
   "metadata": {},
   "outputs": [
    {
     "name": "stdout",
     "output_type": "stream",
     "text": [
      "D\n",
      "A\n",
      "T\n",
      "A\n"
     ]
    }
   ],
   "source": [
    "S= \"DATA\"\n",
    "i= 0\n",
    "while i<len(S):\n",
    "    print(S[i])\n",
    "    i += 1"
   ]
  },
  {
   "cell_type": "markdown",
   "id": "fa8ebce6-7214-4965-b356-d16af4c8db20",
   "metadata": {},
   "source": [
    "QUESTION NO 6"
   ]
  },
  {
   "cell_type": "code",
   "execution_count": 2,
   "id": "fb0c1617-6c2b-4492-9297-7d44c06b6d73",
   "metadata": {},
   "outputs": [
    {
     "name": "stdin",
     "output_type": "stream",
     "text": [
      "enter password:   ahmad123\n"
     ]
    },
    {
     "name": "stdout",
     "output_type": "stream",
     "text": [
      "input password.try again.\n"
     ]
    },
    {
     "name": "stdin",
     "output_type": "stream",
     "text": [
      "enter password: Ahmad123\n"
     ]
    },
    {
     "name": "stdout",
     "output_type": "stream",
     "text": [
      "acess granted.\n"
     ]
    }
   ],
   "source": [
    "correct_password= \"Ahmad123\"\n",
    "password= input('enter password:  ')\n",
    "while password !=  correct_password:\n",
    "   print('input password.try again.')\n",
    "   password=input(\"enter password:\")\n",
    "print(\"acess granted.\")"
   ]
  },
  {
   "cell_type": "markdown",
   "id": "1cc71e22-dad0-4ad3-a250-a87aa79df11d",
   "metadata": {},
   "source": [
    "QUESTION NO 7"
   ]
  },
  {
   "cell_type": "code",
   "execution_count": 19,
   "id": "1db42e09-f5f8-4508-86fb-21e80c96a7fd",
   "metadata": {},
   "outputs": [
    {
     "name": "stdin",
     "output_type": "stream",
     "text": [
      "Guess the number:  5\n"
     ]
    },
    {
     "name": "stdout",
     "output_type": "stream",
     "text": [
      "Too low!\n"
     ]
    },
    {
     "name": "stdin",
     "output_type": "stream",
     "text": [
      "Try again:  7\n"
     ]
    },
    {
     "name": "stdout",
     "output_type": "stream",
     "text": [
      "Congratulations! You guessed it right.\n"
     ]
    }
   ],
   "source": [
    "\n",
    "secret_number = 7\n",
    "guess = int(input(\"Guess the number: \"))\n",
    "while guess != secret_number:\n",
    "    if guess < secret_number:\n",
    "        print(\"Too low!\")\n",
    "    else:\n",
    "        print(\"Too high!\")\n",
    "    guess = int(input(\"Try again: \"))\n",
    "\n",
    "print(\"Congratulations! You guessed it right.\")\n"
   ]
  },
  {
   "cell_type": "markdown",
   "id": "ef2f1af5-2dce-4649-8170-1b9281b9399d",
   "metadata": {},
   "source": [
    "QUESTION NO 8"
   ]
  },
  {
   "cell_type": "code",
   "execution_count": 4,
   "id": "bb6949c8-cdee-48c9-b8b8-3b98234048eb",
   "metadata": {},
   "outputs": [
    {
     "name": "stdin",
     "output_type": "stream",
     "text": [
      "Enter a positive integer:  2\n"
     ]
    },
    {
     "name": "stdout",
     "output_type": "stream",
     "text": [
      "Number of digits: 1\n"
     ]
    }
   ],
   "source": [
    "\n",
    "number = int(input(\"Enter a positive integer: \"))\n",
    "count = 0\n",
    "while number > 0:\n",
    "    number = number // 10  \n",
    "    count += 1\n",
    "print(\"Number of digits:\", count)\n"
   ]
  },
  {
   "cell_type": "markdown",
   "id": "a8d10377-5ed8-4ce0-87fe-3fe45d3ab2f1",
   "metadata": {},
   "source": [
    "QUESTION NO 9"
   ]
  },
  {
   "cell_type": "code",
   "execution_count": 6,
   "id": "68d90a7a-3fb7-4c72-999d-5f50b4dd4747",
   "metadata": {},
   "outputs": [
    {
     "name": "stdin",
     "output_type": "stream",
     "text": [
      "Enter a number:  5\n"
     ]
    },
    {
     "name": "stdout",
     "output_type": "stream",
     "text": [
      "5 x 1 = 5\n",
      "5 x 2 = 10\n",
      "5 x 3 = 15\n",
      "5 x 4 = 20\n",
      "5 x 5 = 25\n",
      "5 x 6 = 30\n",
      "5 x 7 = 35\n",
      "5 x 8 = 40\n",
      "5 x 9 = 45\n",
      "5 x 10 = 50\n"
     ]
    }
   ],
   "source": [
    "\n",
    "num = int(input(\"Enter a number: \"))\n",
    "i = 1\n",
    "while i <= 10:\n",
    "    print(f\"{num} x {i} = {num * i}\")\n",
    "    i += 1\n"
   ]
  },
  {
   "cell_type": "markdown",
   "id": "e513366b-fa25-40c7-b0bd-f2f2a7c94e41",
   "metadata": {},
   "source": [
    "QUESTION NO 10"
   ]
  },
  {
   "cell_type": "code",
   "execution_count": 16,
   "id": "e5674fdb-059d-4a22-b72e-2d4290188971",
   "metadata": {},
   "outputs": [
    {
     "name": "stdin",
     "output_type": "stream",
     "text": [
      "Enter a number (-1 to stop):  3\n",
      "Enter another number (-1 to stop):  -1\n"
     ]
    },
    {
     "name": "stdout",
     "output_type": "stream",
     "text": [
      "Average of entered numbers: 3.0\n"
     ]
    }
   ],
   "source": [
    "\n",
    "total = 0\n",
    "count = 0\n",
    "num = int(input(\"Enter a number (-1 to stop): \"))\n",
    "while num != -1:\n",
    "    total += num\n",
    "    count += 1\n",
    "    num = int(input(\"Enter another number (-1 to stop): \"))\n",
    "if count > 0:\n",
    "    average = total / count\n",
    "    print(\"Average of entered numbers:\", average)\n",
    "else:\n",
    "    print(\"No numbers were entered.\")\n"
   ]
  },
  {
   "cell_type": "code",
   "execution_count": null,
   "id": "f125fe6d-9da0-4c30-b50d-722843c68914",
   "metadata": {},
   "outputs": [],
   "source": []
  }
 ],
 "metadata": {
  "kernelspec": {
   "display_name": "Python [conda env:base] *",
   "language": "python",
   "name": "conda-base-py"
  },
  "language_info": {
   "codemirror_mode": {
    "name": "ipython",
    "version": 3
   },
   "file_extension": ".py",
   "mimetype": "text/x-python",
   "name": "python",
   "nbconvert_exporter": "python",
   "pygments_lexer": "ipython3",
   "version": "3.12.7"
  }
 },
 "nbformat": 4,
 "nbformat_minor": 5
}
